{
  "nbformat": 4,
  "nbformat_minor": 0,
  "metadata": {
    "colab": {
      "name": "ch02-part01-python 데이터, 자료구조",
      "provenance": [],
      "authorship_tag": "ABX9TyNbjcunb/aO3JLlrxj99XFb",
      "include_colab_link": true
    },
    "kernelspec": {
      "name": "python3",
      "display_name": "Python 3"
    },
    "language_info": {
      "name": "python"
    }
  },
  "cells": [
    {
      "cell_type": "markdown",
      "metadata": {
        "id": "view-in-github",
        "colab_type": "text"
      },
      "source": [
        "<a href=\"https://colab.research.google.com/github/JiEunPong/JiEunPong.github.io/blob/master/ch02_part01_python_%EB%8D%B0%EC%9D%B4%ED%84%B0%2C_%EC%9E%90%EB%A3%8C%EA%B5%AC%EC%A1%B0.ipynb\" target=\"_parent\"><img src=\"https://colab.research.google.com/assets/colab-badge.svg\" alt=\"Open In Colab\"/></a>"
      ]
    },
    {
      "cell_type": "markdown",
      "metadata": {
        "id": "QAgxe1v-fBqN"
      },
      "source": [
        ""
      ]
    },
    {
      "cell_type": "markdown",
      "metadata": {
        "id": "jF0YtsnifJiQ"
      },
      "source": [
        "##1. 출력\n"
      ]
    },
    {
      "cell_type": "code",
      "metadata": {
        "colab": {
          "base_uri": "https://localhost:8080/"
        },
        "id": "jFGlywAWfVC9",
        "outputId": "acbb311d-a810-48ab-fb16-31034c9d5b74"
      },
      "source": [
        "print('안녕하세요')"
      ],
      "execution_count": null,
      "outputs": [
        {
          "output_type": "stream",
          "name": "stdout",
          "text": [
            "안녕하세요\n"
          ]
        }
      ]
    },
    {
      "cell_type": "code",
      "metadata": {
        "colab": {
          "base_uri": "https://localhost:8080/"
        },
        "id": "Zp0lJTrnfY5M",
        "outputId": "346585de-dc83-4f48-8a7b-cab89f0e8852"
      },
      "source": [
        "print(1)\n"
      ],
      "execution_count": null,
      "outputs": [
        {
          "output_type": "stream",
          "name": "stdout",
          "text": [
            "1\n"
          ]
        }
      ]
    },
    {
      "cell_type": "markdown",
      "metadata": {
        "id": "2Lu3gWsHfdWd"
      },
      "source": [
        "셀의 맨 마지막을 항상 출력합니다"
      ]
    },
    {
      "cell_type": "code",
      "metadata": {
        "colab": {
          "base_uri": "https://localhost:8080/",
          "height": 35
        },
        "id": "Gf2D0GOwfmMz",
        "outputId": "945a32d4-1c3b-4444-8596-9a8c2dfed139"
      },
      "source": [
        "'안녕하세요' #문자는 print 입력 안해도 그냥 출력 됨 but 가장 마지막을 출력함"
      ],
      "execution_count": null,
      "outputs": [
        {
          "output_type": "execute_result",
          "data": {
            "application/vnd.google.colaboratory.intrinsic+json": {
              "type": "string"
            },
            "text/plain": [
              "'안녕하세요'"
            ]
          },
          "metadata": {},
          "execution_count": 4
        }
      ]
    },
    {
      "cell_type": "code",
      "metadata": {
        "colab": {
          "base_uri": "https://localhost:8080/",
          "height": 35
        },
        "id": "DDLxY3EwfuAG",
        "outputId": "21e17a35-f14f-4fc2-ce02-f09061a08233"
      },
      "source": [
        "'안녕하세요'\n",
        "'반갑습니다'"
      ],
      "execution_count": null,
      "outputs": [
        {
          "output_type": "execute_result",
          "data": {
            "application/vnd.google.colaboratory.intrinsic+json": {
              "type": "string"
            },
            "text/plain": [
              "'반갑습니다'"
            ]
          },
          "metadata": {},
          "execution_count": 5
        }
      ]
    },
    {
      "cell_type": "markdown",
      "metadata": {
        "id": "HEzuBIRqf2jX"
      },
      "source": [
        "이럴때는 print 구문을 붙여 주면 중간에서도 출력합니다."
      ]
    },
    {
      "cell_type": "code",
      "metadata": {
        "colab": {
          "base_uri": "https://localhost:8080/",
          "height": 54
        },
        "id": "-fjC9SkkgFIK",
        "outputId": "55cb1a2e-16ba-4080-a352-8f9781b8d944"
      },
      "source": [
        "print('안녕하세요')\n",
        "'반갑습니다'\n",
        "'다음에 또 봐요'"
      ],
      "execution_count": null,
      "outputs": [
        {
          "output_type": "stream",
          "name": "stdout",
          "text": [
            "안녕하세요\n"
          ]
        },
        {
          "output_type": "execute_result",
          "data": {
            "application/vnd.google.colaboratory.intrinsic+json": {
              "type": "string"
            },
            "text/plain": [
              "'다음에 또 봐요'"
            ]
          },
          "metadata": {},
          "execution_count": 6
        }
      ]
    },
    {
      "cell_type": "markdown",
      "metadata": {
        "id": "GYg3XyebgL4U"
      },
      "source": [
        "그냥 마지막에는 항상 출력이 되고 중간중간에 출력해야 할 값이 있으면 곡 print 붙여주면 된다."
      ]
    },
    {
      "cell_type": "markdown",
      "metadata": {
        "id": "1BOV7LkBgZz5"
      },
      "source": [
        "##2. 변수"
      ]
    },
    {
      "cell_type": "markdown",
      "metadata": {
        "id": "vVpSbX7-gdSg"
      },
      "source": [
        "\n",
        "변수는 **데이터를 담는 그릇**이라고 생각하면 된다.\n",
        "\n",
        "변수라는 그릇에 정수를 담을 수도 있고, 긴 글을 담을 수도 있고, file을 담을 수도 있다. 우리가 재사용 하기 쉽게 **별명**을 지정해 줬다라고 쉽게 생각하면 된다."
      ]
    },
    {
      "cell_type": "markdown",
      "metadata": {
        "id": "Q7cc-xqjg42o"
      },
      "source": [
        "### 2-1. 변수의 이름"
      ]
    },
    {
      "cell_type": "markdown",
      "metadata": {
        "id": "rJrd0d5ng9yY"
      },
      "source": [
        "**case 1**. 알파벳(가능) / 대소문자 모두 가능 / 심지어 **한글도 가능하나 사용하는 것은 비추!** "
      ]
    },
    {
      "cell_type": "code",
      "metadata": {
        "id": "zZxJ7B_vhW7x"
      },
      "source": [
        "a = 1"
      ],
      "execution_count": null,
      "outputs": []
    },
    {
      "cell_type": "code",
      "metadata": {
        "id": "3Trw4BJ2hiH0"
      },
      "source": [
        "A = 1"
      ],
      "execution_count": null,
      "outputs": []
    },
    {
      "cell_type": "code",
      "metadata": {
        "id": "2vFuv4RVhkO9"
      },
      "source": [
        "변수 = 1"
      ],
      "execution_count": null,
      "outputs": []
    },
    {
      "cell_type": "code",
      "metadata": {
        "colab": {
          "base_uri": "https://localhost:8080/"
        },
        "id": "v7pwkul_hmiS",
        "outputId": "9047006f-710c-43e7-8baf-2e9b89dc3021"
      },
      "source": [
        "변수"
      ],
      "execution_count": null,
      "outputs": [
        {
          "output_type": "execute_result",
          "data": {
            "text/plain": [
              "1"
            ]
          },
          "metadata": {},
          "execution_count": 12
        }
      ]
    },
    {
      "cell_type": "markdown",
      "metadata": {
        "id": "tSzGAUCvhnPa"
      },
      "source": [
        "**case 2**. 알파벳 + 숫자(가능)"
      ]
    },
    {
      "cell_type": "code",
      "metadata": {
        "id": "c_L1B07ih_tD"
      },
      "source": [
        "a1 = 1"
      ],
      "execution_count": null,
      "outputs": []
    },
    {
      "cell_type": "markdown",
      "metadata": {
        "id": "F0EkATadiBNJ"
      },
      "source": [
        "**case 3.** 알파벳 + 언더바(_)(가능)\n"
      ]
    },
    {
      "cell_type": "code",
      "metadata": {
        "id": "JAk3SSD1iQmz"
      },
      "source": [
        "a_ = 1"
      ],
      "execution_count": null,
      "outputs": []
    },
    {
      "cell_type": "markdown",
      "metadata": {
        "id": "BwkIkq00iTIj"
      },
      "source": [
        "**case 4.** 언더바(_) + 알파벳(가능) "
      ]
    },
    {
      "cell_type": "code",
      "metadata": {
        "id": "Ic_dzqRSilQq"
      },
      "source": [
        "_a = 1"
      ],
      "execution_count": null,
      "outputs": []
    },
    {
      "cell_type": "markdown",
      "metadata": {
        "id": "YbH7HQ2LiniQ"
      },
      "source": [
        "**case 5.** 숫자 + 알파벳 (불가능)"
      ]
    },
    {
      "cell_type": "code",
      "metadata": {
        "colab": {
          "base_uri": "https://localhost:8080/",
          "height": 136
        },
        "id": "nL0x47vJiyYY",
        "outputId": "0c90d36c-8973-4468-d355-5a4bdb56aafc"
      },
      "source": [
        "1a = 1"
      ],
      "execution_count": null,
      "outputs": [
        {
          "output_type": "error",
          "ename": "SyntaxError",
          "evalue": "ignored",
          "traceback": [
            "\u001b[0;36m  File \u001b[0;32m\"<ipython-input-17-cc67e5ecf289>\"\u001b[0;36m, line \u001b[0;32m1\u001b[0m\n\u001b[0;31m    1a = 1\u001b[0m\n\u001b[0m     ^\u001b[0m\n\u001b[0;31mSyntaxError\u001b[0m\u001b[0;31m:\u001b[0m invalid syntax\n"
          ]
        }
      ]
    },
    {
      "cell_type": "markdown",
      "metadata": {
        "id": "OcNXn1nii0kz"
      },
      "source": [
        "**case 6.** 특수문자(불가능)"
      ]
    },
    {
      "cell_type": "code",
      "metadata": {
        "colab": {
          "base_uri": "https://localhost:8080/",
          "height": 136
        },
        "id": "e7UW-LH9i-v6",
        "outputId": "7d4a61ac-d5a7-4648-f416-0f27e9657885"
      },
      "source": [
        "* = 1"
      ],
      "execution_count": null,
      "outputs": [
        {
          "output_type": "error",
          "ename": "SyntaxError",
          "evalue": "ignored",
          "traceback": [
            "\u001b[0;36m  File \u001b[0;32m\"<ipython-input-18-6d0163a9fd4c>\"\u001b[0;36m, line \u001b[0;32m1\u001b[0m\n\u001b[0;31m    * = 1\u001b[0m\n\u001b[0m      ^\u001b[0m\n\u001b[0;31mSyntaxError\u001b[0m\u001b[0;31m:\u001b[0m invalid syntax\n"
          ]
        }
      ]
    },
    {
      "cell_type": "markdown",
      "metadata": {
        "id": "FJ5MeLqrjAvk"
      },
      "source": [
        "**case 7.** 언더바를 제외한 특수문자(불가능)\n"
      ]
    },
    {
      "cell_type": "code",
      "metadata": {
        "colab": {
          "base_uri": "https://localhost:8080/",
          "height": 136
        },
        "id": "5tpLJmrXjI8y",
        "outputId": "f37a68cf-0940-4f03-fbba-4acb34a0897f"
      },
      "source": [
        "a$ = 6"
      ],
      "execution_count": null,
      "outputs": [
        {
          "output_type": "error",
          "ename": "SyntaxError",
          "evalue": "ignored",
          "traceback": [
            "\u001b[0;36m  File \u001b[0;32m\"<ipython-input-19-7b68e0211941>\"\u001b[0;36m, line \u001b[0;32m1\u001b[0m\n\u001b[0;31m    a$ = 6\u001b[0m\n\u001b[0m     ^\u001b[0m\n\u001b[0;31mSyntaxError\u001b[0m\u001b[0;31m:\u001b[0m invalid syntax\n"
          ]
        }
      ]
    },
    {
      "cell_type": "markdown",
      "metadata": {
        "id": "XxHUCC_UjMAF"
      },
      "source": [
        "**case 8.** 변수와 **소문자 알파벳으로 생성**하고, 필요시 **언더바**나 **숫자를 붙이는 방식**이 일반적입니다."
      ]
    },
    {
      "cell_type": "code",
      "metadata": {
        "id": "aM_KWCvNjvIt"
      },
      "source": [
        "test = 10"
      ],
      "execution_count": null,
      "outputs": []
    },
    {
      "cell_type": "code",
      "metadata": {
        "id": "ElTYM6p3jyhF"
      },
      "source": [
        "test01 = 20"
      ],
      "execution_count": null,
      "outputs": []
    },
    {
      "cell_type": "code",
      "metadata": {
        "id": "DyX15YmNj4ha"
      },
      "source": [
        "test_01 = 30"
      ],
      "execution_count": null,
      "outputs": []
    },
    {
      "cell_type": "markdown",
      "metadata": {
        "id": "sHeIAvb9j67V"
      },
      "source": [
        "###2-2. 변수의 출력"
      ]
    },
    {
      "cell_type": "markdown",
      "metadata": {
        "id": "Lcm0blSZkBHZ"
      },
      "source": [
        "1. print() 구문 사이에 **값을 직접 집어 넣으면**, 바로 **값이 출력**됩니다. \n",
        "2. print() 구문 사이에 **변수 이름**을 집어 넣으면, 그 값이 출력이 됩니다."
      ]
    },
    {
      "cell_type": "code",
      "metadata": {
        "colab": {
          "base_uri": "https://localhost:8080/"
        },
        "id": "oVPZ-dEfkdlN",
        "outputId": "9a0c6129-46e8-43c8-9363-f996632c07b2"
      },
      "source": [
        "# 값을 바로 집어 넣은 경우\n",
        "print('test')"
      ],
      "execution_count": null,
      "outputs": [
        {
          "output_type": "stream",
          "name": "stdout",
          "text": [
            "test\n"
          ]
        }
      ]
    },
    {
      "cell_type": "code",
      "metadata": {
        "id": "z3AHThXLkvdf"
      },
      "source": [
        "a = 123"
      ],
      "execution_count": null,
      "outputs": []
    },
    {
      "cell_type": "code",
      "metadata": {
        "colab": {
          "base_uri": "https://localhost:8080/"
        },
        "id": "_LY85Z-2kwyi",
        "outputId": "205bbb3b-cd6e-4577-ecf5-dbd7dc8c7651"
      },
      "source": [
        "print(a)"
      ],
      "execution_count": null,
      "outputs": [
        {
          "output_type": "stream",
          "name": "stdout",
          "text": [
            "123\n"
          ]
        }
      ]
    },
    {
      "cell_type": "code",
      "metadata": {
        "id": "wmdS38-qkyu5"
      },
      "source": [
        "a = '안녕하세요. 반갑습니다'"
      ],
      "execution_count": null,
      "outputs": []
    },
    {
      "cell_type": "code",
      "metadata": {
        "colab": {
          "base_uri": "https://localhost:8080/"
        },
        "id": "aa8dJ6KSk39Y",
        "outputId": "0f8ec7df-70f4-48a4-dfe3-7855ca2503a6"
      },
      "source": [
        "print(a)"
      ],
      "execution_count": null,
      "outputs": [
        {
          "output_type": "stream",
          "name": "stdout",
          "text": [
            "안녕하세요. 반갑습니다\n"
          ]
        }
      ]
    },
    {
      "cell_type": "markdown",
      "metadata": {
        "id": "bLIFPHIvk8GU"
      },
      "source": [
        "##3. 데이터 타입"
      ]
    },
    {
      "cell_type": "markdown",
      "metadata": {
        "id": "-9SZA86dlBM4"
      },
      "source": [
        "**데이터 type**\n",
        "1. int(정수)\n",
        "2. float(실수)\n",
        "3. str(문자열)\n",
        "4. bool(참/거짓)"
      ]
    },
    {
      "cell_type": "markdown",
      "metadata": {
        "id": "9dFdYMuclEZP"
      },
      "source": [
        "###3-1. int(정수)"
      ]
    },
    {
      "cell_type": "code",
      "metadata": {
        "id": "gt3LUN58lu_J"
      },
      "source": [
        "a = 1"
      ],
      "execution_count": null,
      "outputs": []
    },
    {
      "cell_type": "code",
      "metadata": {
        "colab": {
          "base_uri": "https://localhost:8080/"
        },
        "id": "NsGx20B4lwRz",
        "outputId": "47a64ed3-a816-4ecb-9a34-bf485914ca2e"
      },
      "source": [
        "type(a)"
      ],
      "execution_count": null,
      "outputs": [
        {
          "output_type": "execute_result",
          "data": {
            "text/plain": [
              "int"
            ]
          },
          "metadata": {},
          "execution_count": 30
        }
      ]
    },
    {
      "cell_type": "code",
      "metadata": {
        "id": "GTxSPUO_mucf"
      },
      "source": [
        "# 코드에서 1은 참으로 인식, 0은 거짓으로 인식"
      ],
      "execution_count": null,
      "outputs": []
    },
    {
      "cell_type": "code",
      "metadata": {
        "colab": {
          "base_uri": "https://localhost:8080/"
        },
        "id": "OFEbRfumlyJx",
        "outputId": "2b6d015c-0208-4bf9-9f1d-c640cbdafa41"
      },
      "source": [
        "if 1:\n",
        "  print('1은 참으로 취급')\n",
        "else:\n",
        "  print('1은 거짓부렁이')"
      ],
      "execution_count": null,
      "outputs": [
        {
          "output_type": "stream",
          "name": "stdout",
          "text": [
            "1은 참으로 취급\n"
          ]
        }
      ]
    },
    {
      "cell_type": "code",
      "metadata": {
        "colab": {
          "base_uri": "https://localhost:8080/"
        },
        "id": "rbNBFVHWmMN9",
        "outputId": "a663f257-e903-41f1-d1c1-9bf084cb2463"
      },
      "source": [
        "if 0:\n",
        "  print('0은 참으로 취급')\n",
        "else:\n",
        "  print('0은 거짓부렁이')"
      ],
      "execution_count": null,
      "outputs": [
        {
          "output_type": "stream",
          "name": "stdout",
          "text": [
            "0은 거짓부렁이\n"
          ]
        }
      ]
    },
    {
      "cell_type": "code",
      "metadata": {
        "colab": {
          "base_uri": "https://localhost:8080/"
        },
        "id": "dCN0lGpQnA4K",
        "outputId": "a752a051-a164-4e76-9d0f-e3ae7232b917"
      },
      "source": [
        "if 123:\n",
        "  print('123은 참으로 취급')\n",
        "else:\n",
        "  print('123은 거짓부렁이') # 값이 0이 아닌것은 다 참으로 취급됨"
      ],
      "execution_count": null,
      "outputs": [
        {
          "output_type": "stream",
          "name": "stdout",
          "text": [
            "123은 참으로 취급\n"
          ]
        }
      ]
    },
    {
      "cell_type": "markdown",
      "metadata": {
        "id": "G3wAu2ydnYun"
      },
      "source": [
        "###3-2. float(실수)"
      ]
    },
    {
      "cell_type": "code",
      "metadata": {
        "id": "17-5X41Wnea6"
      },
      "source": [
        "a = 3.14"
      ],
      "execution_count": null,
      "outputs": []
    },
    {
      "cell_type": "code",
      "metadata": {
        "colab": {
          "base_uri": "https://localhost:8080/"
        },
        "id": "7URffWS-ng-M",
        "outputId": "1a76e0e6-d376-4922-985d-05697193b5e6"
      },
      "source": [
        "type(a)"
      ],
      "execution_count": null,
      "outputs": [
        {
          "output_type": "execute_result",
          "data": {
            "text/plain": [
              "float"
            ]
          },
          "metadata": {},
          "execution_count": 36
        }
      ]
    },
    {
      "cell_type": "code",
      "metadata": {
        "colab": {
          "base_uri": "https://localhost:8080/"
        },
        "id": "lEi8xnPFoJPq",
        "outputId": "9fbc43da-d049-42b2-a5b0-b25dd08d0413"
      },
      "source": [
        "print(a) # ????? true가 아니라 3.14가 나와야 하는데.."
      ],
      "execution_count": null,
      "outputs": [
        {
          "output_type": "stream",
          "name": "stdout",
          "text": [
            "True\n"
          ]
        }
      ]
    },
    {
      "cell_type": "markdown",
      "metadata": {
        "id": "F5UMib7Snjf8"
      },
      "source": [
        "###3-3. str 혹은 object (문자)"
      ]
    },
    {
      "cell_type": "code",
      "metadata": {
        "id": "SfJVazojnuMT"
      },
      "source": [
        "word = '안녕하세요'"
      ],
      "execution_count": null,
      "outputs": []
    },
    {
      "cell_type": "code",
      "metadata": {
        "id": "HvVzq8Vdo0u9"
      },
      "source": [
        "word = \"안녕하세요\""
      ],
      "execution_count": null,
      "outputs": []
    },
    {
      "cell_type": "code",
      "metadata": {
        "colab": {
          "base_uri": "https://localhost:8080/"
        },
        "id": "x83fLoYonyXC",
        "outputId": "ff0cf04c-5b04-4a93-eee4-0200bfcf30a4"
      },
      "source": [
        "type(word)"
      ],
      "execution_count": null,
      "outputs": [
        {
          "output_type": "execute_result",
          "data": {
            "text/plain": [
              "str"
            ]
          },
          "metadata": {},
          "execution_count": 38
        }
      ]
    },
    {
      "cell_type": "code",
      "metadata": {
        "id": "ZNVQiDEUoy6O"
      },
      "source": [
        ""
      ],
      "execution_count": null,
      "outputs": []
    },
    {
      "cell_type": "markdown",
      "metadata": {
        "id": "ne6Eo_TJn1fF"
      },
      "source": [
        "###3-4. bool (참/거짓)"
      ]
    },
    {
      "cell_type": "code",
      "metadata": {
        "id": "1Bbu0Bkgn8YG"
      },
      "source": [
        "a = True"
      ],
      "execution_count": null,
      "outputs": []
    },
    {
      "cell_type": "code",
      "metadata": {
        "colab": {
          "base_uri": "https://localhost:8080/"
        },
        "id": "VSFA7fpzn-Tz",
        "outputId": "a4d45716-68ea-4381-fa27-0826b6cf91be"
      },
      "source": [
        "print(a)"
      ],
      "execution_count": null,
      "outputs": [
        {
          "output_type": "stream",
          "name": "stdout",
          "text": [
            "True\n"
          ]
        }
      ]
    },
    {
      "cell_type": "code",
      "metadata": {
        "colab": {
          "base_uri": "https://localhost:8080/"
        },
        "id": "UVjqvegMpJDh",
        "outputId": "0543f1c1-eb94-4e0c-cc70-159e2dd8a501"
      },
      "source": [
        "1 == True"
      ],
      "execution_count": null,
      "outputs": [
        {
          "output_type": "execute_result",
          "data": {
            "text/plain": [
              "True"
            ]
          },
          "metadata": {},
          "execution_count": 44
        }
      ]
    },
    {
      "cell_type": "code",
      "metadata": {
        "colab": {
          "base_uri": "https://localhost:8080/"
        },
        "id": "XwqlJIGypPKc",
        "outputId": "be9fecc5-e15a-4480-a6b5-5b927762541b"
      },
      "source": [
        "0 == True"
      ],
      "execution_count": null,
      "outputs": [
        {
          "output_type": "execute_result",
          "data": {
            "text/plain": [
              "False"
            ]
          },
          "metadata": {},
          "execution_count": 45
        }
      ]
    },
    {
      "cell_type": "code",
      "metadata": {
        "colab": {
          "base_uri": "https://localhost:8080/"
        },
        "id": "JOSbEebJpgCh",
        "outputId": "0400f391-3fce-4b52-d0a3-bba953c9fe1f"
      },
      "source": [
        "123 == True # 1있으면 트루라 했지만 이건 이따가 설명"
      ],
      "execution_count": null,
      "outputs": [
        {
          "output_type": "execute_result",
          "data": {
            "text/plain": [
              "False"
            ]
          },
          "metadata": {},
          "execution_count": 46
        }
      ]
    },
    {
      "cell_type": "markdown",
      "metadata": {
        "id": "U0ElijGYoAGP"
      },
      "source": [
        "###3-5 아무것도 아닌 None 타입도 있다."
      ]
    },
    {
      "cell_type": "markdown",
      "metadata": {
        "id": "E9YRtfJ1pVqE"
      },
      "source": [
        "말 그래도 아무것도 아닌 흔히 Null 값을 넣는다고도 한다.\n",
        "사전상 의미는 \n",
        "* **Null: Nullify(무효화하다)**라는 뜻을 가지고 있다.\n",
        "python에서는 **None**이다."
      ]
    },
    {
      "cell_type": "code",
      "metadata": {
        "id": "XzA4w6Pup-eY"
      },
      "source": [
        "a = None #데이터가 빈공간이 있을경우 넌값이 부여됨"
      ],
      "execution_count": null,
      "outputs": []
    },
    {
      "cell_type": "code",
      "metadata": {
        "colab": {
          "base_uri": "https://localhost:8080/"
        },
        "id": "eZXOdP_Xqb0u",
        "outputId": "12a4fbab-0027-420c-a967-7d18e7946f60"
      },
      "source": [
        "type(a)"
      ],
      "execution_count": null,
      "outputs": [
        {
          "output_type": "execute_result",
          "data": {
            "text/plain": [
              "NoneType"
            ]
          },
          "metadata": {},
          "execution_count": 51
        }
      ]
    },
    {
      "cell_type": "code",
      "metadata": {
        "colab": {
          "base_uri": "https://localhost:8080/"
        },
        "id": "zlClKCe4qC4t",
        "outputId": "2a260c60-b0ca-46ad-9ec9-4e85ee5622ed"
      },
      "source": [
        "print(a)"
      ],
      "execution_count": null,
      "outputs": [
        {
          "output_type": "stream",
          "name": "stdout",
          "text": [
            "None\n"
          ]
        }
      ]
    },
    {
      "cell_type": "markdown",
      "metadata": {
        "id": "sZ-1KDfiqEZV"
      },
      "source": [
        "조건문에 None이라면??"
      ]
    },
    {
      "cell_type": "code",
      "metadata": {
        "colab": {
          "base_uri": "https://localhost:8080/"
        },
        "id": "W6_BgJvJqLG_",
        "outputId": "75100a25-9bc9-4251-e849-18ca5814e718"
      },
      "source": [
        "if None:\n",
        "  print('None은 참으로 취급')\n",
        "else:\n",
        "  print('None은 거짓부렁이')"
      ],
      "execution_count": null,
      "outputs": [
        {
          "output_type": "stream",
          "name": "stdout",
          "text": [
            "None은 거짓부렁이\n"
          ]
        }
      ]
    },
    {
      "cell_type": "markdown",
      "metadata": {
        "id": "aZd0YzK0qRQL"
      },
      "source": [
        "##4. 데이터 타입(집합)"
      ]
    },
    {
      "cell_type": "markdown",
      "metadata": {
        "id": "nMRM4ke8sXJC"
      },
      "source": [
        "**집합 형태의 데이터 타입** \n",
        "1. list(순서 O,집합)\n",
        "2. tuple(순서 O, 읽기 전용 집합)\n",
        "3. set(순서 X, 중복X 집합)\n",
        "4. dict(key,value로 이루어진 사전형 집합)"
      ]
    },
    {
      "cell_type": "markdown",
      "metadata": {
        "id": "6_c1pCvZsiKB"
      },
      "source": [
        "###4-1. list(순서가 있는 집합) 순서가 유지된다"
      ]
    },
    {
      "cell_type": "markdown",
      "metadata": {
        "id": "4WO56auVtGOK"
      },
      "source": [
        "[]형태로 표현합니다."
      ]
    },
    {
      "cell_type": "code",
      "metadata": {
        "id": "PgR7r2WFtKmo"
      },
      "source": [
        "mylist = []"
      ],
      "execution_count": null,
      "outputs": []
    },
    {
      "cell_type": "code",
      "metadata": {
        "colab": {
          "base_uri": "https://localhost:8080/"
        },
        "id": "kmIDjQEJtR7B",
        "outputId": "27f43238-a9c1-4b95-dac2-3d16ebe96dfa"
      },
      "source": [
        "mylist"
      ],
      "execution_count": null,
      "outputs": [
        {
          "output_type": "execute_result",
          "data": {
            "text/plain": [
              "[]"
            ]
          },
          "metadata": {},
          "execution_count": 3
        }
      ]
    },
    {
      "cell_type": "code",
      "metadata": {
        "colab": {
          "base_uri": "https://localhost:8080/"
        },
        "id": "J7YpIULgtTnJ",
        "outputId": "2c4453a0-21fb-4f24-9a2b-9524c80253f7"
      },
      "source": [
        "type(mylist)"
      ],
      "execution_count": null,
      "outputs": [
        {
          "output_type": "execute_result",
          "data": {
            "text/plain": [
              "list"
            ]
          },
          "metadata": {},
          "execution_count": 53
        }
      ]
    },
    {
      "cell_type": "code",
      "metadata": {
        "id": "3ngqnawMtWUY"
      },
      "source": [
        "mylist = [1, 2, 3, 4, 5]"
      ],
      "execution_count": null,
      "outputs": []
    },
    {
      "cell_type": "code",
      "metadata": {
        "colab": {
          "base_uri": "https://localhost:8080/"
        },
        "id": "XZBkBmBFtciq",
        "outputId": "09ed3332-baad-4927-8d6b-769ec8769148"
      },
      "source": [
        "mylist"
      ],
      "execution_count": null,
      "outputs": [
        {
          "output_type": "execute_result",
          "data": {
            "text/plain": [
              "[1, 2, 3, 4, 5]"
            ]
          },
          "metadata": {},
          "execution_count": 56
        }
      ]
    },
    {
      "cell_type": "markdown",
      "metadata": {
        "id": "NUrKP2toteh2"
      },
      "source": [
        "####값을 추가하기"
      ]
    },
    {
      "cell_type": "code",
      "metadata": {
        "id": "NZ6vJbK7uTGS"
      },
      "source": [
        "mylist = []"
      ],
      "execution_count": null,
      "outputs": []
    },
    {
      "cell_type": "code",
      "metadata": {
        "id": "oxCUbrUBu9Da"
      },
      "source": [
        "#mylist. '.'옆에는 메서드 나타남. 괄호 안에는 값 넣어줌"
      ],
      "execution_count": null,
      "outputs": []
    },
    {
      "cell_type": "code",
      "metadata": {
        "id": "6n3yY2KkuVxj"
      },
      "source": [
        "mylist.append(1) #append 붙이다\n"
      ],
      "execution_count": null,
      "outputs": []
    },
    {
      "cell_type": "code",
      "metadata": {
        "colab": {
          "base_uri": "https://localhost:8080/"
        },
        "id": "hut_D5PHujMi",
        "outputId": "e04da287-fd16-4397-807c-8b28276c8b7d"
      },
      "source": [
        "mylist"
      ],
      "execution_count": null,
      "outputs": [
        {
          "output_type": "execute_result",
          "data": {
            "text/plain": [
              "[1]"
            ]
          },
          "metadata": {},
          "execution_count": 14
        }
      ]
    },
    {
      "cell_type": "code",
      "metadata": {
        "id": "msN9QKKKuolG"
      },
      "source": [
        "mylist.append(2)\n",
        "mylist.append(3)"
      ],
      "execution_count": null,
      "outputs": []
    },
    {
      "cell_type": "code",
      "metadata": {
        "colab": {
          "base_uri": "https://localhost:8080/"
        },
        "id": "V0kKJTK7uulu",
        "outputId": "3c817bf9-6357-4086-8af7-3212aaed9105"
      },
      "source": [
        "mylist"
      ],
      "execution_count": null,
      "outputs": [
        {
          "output_type": "execute_result",
          "data": {
            "text/plain": [
              "[1, 2, 3]"
            ]
          },
          "metadata": {},
          "execution_count": 16
        }
      ]
    },
    {
      "cell_type": "markdown",
      "metadata": {
        "id": "c9Wnz9HWuwOb"
      },
      "source": [
        "####값을 제거하기"
      ]
    },
    {
      "cell_type": "code",
      "metadata": {
        "colab": {
          "base_uri": "https://localhost:8080/"
        },
        "id": "YxY299POvS0P",
        "outputId": "ed273cf7-fe98-46dd-b769-0cbf35e4cade"
      },
      "source": [
        "mylist "
      ],
      "execution_count": null,
      "outputs": [
        {
          "output_type": "execute_result",
          "data": {
            "text/plain": [
              "[1, 2, 3, 4, 5, 1, 2, 3]"
            ]
          },
          "metadata": {},
          "execution_count": 61
        }
      ]
    },
    {
      "cell_type": "code",
      "metadata": {
        "id": "_Iwj-J-xvY2f"
      },
      "source": [
        "mylist.remove(1)"
      ],
      "execution_count": null,
      "outputs": []
    },
    {
      "cell_type": "code",
      "metadata": {
        "colab": {
          "base_uri": "https://localhost:8080/"
        },
        "id": "Tm0_hUFCvcun",
        "outputId": "2019d34f-ebf6-4e9b-ed8b-df05bafef92a"
      },
      "source": [
        "mylist"
      ],
      "execution_count": null,
      "outputs": [
        {
          "output_type": "execute_result",
          "data": {
            "text/plain": [
              "[2, 3, 4, 5, 2, 3]"
            ]
          },
          "metadata": {},
          "execution_count": 64
        }
      ]
    },
    {
      "cell_type": "code",
      "metadata": {
        "colab": {
          "base_uri": "https://localhost:8080/",
          "height": 172
        },
        "id": "osJaI5AoveWc",
        "outputId": "d6ffbf21-cb59-4b3c-b5ce-94f35422e762"
      },
      "source": [
        "mylist.remove(1)"
      ],
      "execution_count": null,
      "outputs": [
        {
          "output_type": "error",
          "ename": "ValueError",
          "evalue": "ignored",
          "traceback": [
            "\u001b[0;31m---------------------------------------------------------------------------\u001b[0m",
            "\u001b[0;31mValueError\u001b[0m                                Traceback (most recent call last)",
            "\u001b[0;32m<ipython-input-65-c90a6cab05e0>\u001b[0m in \u001b[0;36m<module>\u001b[0;34m()\u001b[0m\n\u001b[0;32m----> 1\u001b[0;31m \u001b[0mmylist\u001b[0m\u001b[0;34m.\u001b[0m\u001b[0mremove\u001b[0m\u001b[0;34m(\u001b[0m\u001b[0;36m1\u001b[0m\u001b[0;34m)\u001b[0m\u001b[0;34m\u001b[0m\u001b[0;34m\u001b[0m\u001b[0m\n\u001b[0m",
            "\u001b[0;31mValueError\u001b[0m: list.remove(x): x not in list"
          ]
        }
      ]
    },
    {
      "cell_type": "markdown",
      "metadata": {
        "id": "wbkeW2vqvhgq"
      },
      "source": [
        "####여러 값들이 포함되어 있을 때 제거 순서"
      ]
    },
    {
      "cell_type": "code",
      "metadata": {
        "id": "X3wKnIeFvlUT"
      },
      "source": [
        "mylist = []\n",
        "mylist.append(1)\n",
        "mylist.append(2)\n",
        "mylist.append(3)\n",
        "mylist.append(1)\n",
        "mylist.append(2)\n",
        "mylist.append(3)"
      ],
      "execution_count": null,
      "outputs": []
    },
    {
      "cell_type": "code",
      "metadata": {
        "colab": {
          "base_uri": "https://localhost:8080/"
        },
        "id": "b-O5tHfXv35D",
        "outputId": "9d572a6b-2aff-4c8b-fa5a-3233b6d06b80"
      },
      "source": [
        "mylist"
      ],
      "execution_count": null,
      "outputs": [
        {
          "output_type": "execute_result",
          "data": {
            "text/plain": [
              "[1, 2, 3, 1, 2, 3]"
            ]
          },
          "metadata": {},
          "execution_count": 67
        }
      ]
    },
    {
      "cell_type": "code",
      "metadata": {
        "id": "EFMV8MCYwa3T"
      },
      "source": [
        "mylist.remove(1)"
      ],
      "execution_count": null,
      "outputs": []
    },
    {
      "cell_type": "code",
      "metadata": {
        "colab": {
          "base_uri": "https://localhost:8080/"
        },
        "id": "zrSfq7OZweK6",
        "outputId": "6d9f9796-730f-489c-9797-60cd6e5f03ed"
      },
      "source": [
        "mylist"
      ],
      "execution_count": null,
      "outputs": [
        {
          "output_type": "execute_result",
          "data": {
            "text/plain": [
              "[2, 3, 1, 2, 3]"
            ]
          },
          "metadata": {},
          "execution_count": 70
        }
      ]
    },
    {
      "cell_type": "code",
      "metadata": {
        "id": "2Zr-l7CXwhX8"
      },
      "source": [
        "mylist.remove(1)"
      ],
      "execution_count": null,
      "outputs": []
    },
    {
      "cell_type": "code",
      "metadata": {
        "colab": {
          "base_uri": "https://localhost:8080/"
        },
        "id": "HrEB2AzHwvv6",
        "outputId": "fbf2a386-d3cd-46e8-fcfb-05005d432d25"
      },
      "source": [
        "mylist"
      ],
      "execution_count": null,
      "outputs": [
        {
          "output_type": "execute_result",
          "data": {
            "text/plain": [
              "[2, 3, 2, 3]"
            ]
          },
          "metadata": {},
          "execution_count": 72
        }
      ]
    },
    {
      "cell_type": "code",
      "metadata": {
        "colab": {
          "base_uri": "https://localhost:8080/",
          "height": 172
        },
        "id": "zCIq--axw0G7",
        "outputId": "fae9dd04-6d41-48c8-8034-a6518f7dac5c"
      },
      "source": [
        "mylist.remove(1) "
      ],
      "execution_count": null,
      "outputs": [
        {
          "output_type": "error",
          "ename": "ValueError",
          "evalue": "ignored",
          "traceback": [
            "\u001b[0;31m---------------------------------------------------------------------------\u001b[0m",
            "\u001b[0;31mValueError\u001b[0m                                Traceback (most recent call last)",
            "\u001b[0;32m<ipython-input-73-cdf273ac64e9>\u001b[0m in \u001b[0;36m<module>\u001b[0;34m()\u001b[0m\n\u001b[0;32m----> 1\u001b[0;31m \u001b[0mmylist\u001b[0m\u001b[0;34m.\u001b[0m\u001b[0mremove\u001b[0m\u001b[0;34m(\u001b[0m\u001b[0;36m1\u001b[0m\u001b[0;34m)\u001b[0m\u001b[0;34m\u001b[0m\u001b[0;34m\u001b[0m\u001b[0m\n\u001b[0m",
            "\u001b[0;31mValueError\u001b[0m: list.remove(x): x not in list"
          ]
        }
      ]
    },
    {
      "cell_type": "markdown",
      "metadata": {
        "id": "rLg6EvKnw5Mt"
      },
      "source": [
        "####인덱싱(indexing)-> 색인"
      ]
    },
    {
      "cell_type": "code",
      "metadata": {
        "id": "-8WY9XZexF4W"
      },
      "source": [
        "mylist = [1, 2, 3, 4]"
      ],
      "execution_count": null,
      "outputs": []
    },
    {
      "cell_type": "markdown",
      "metadata": {
        "id": "O97qUBxfxegz"
      },
      "source": [
        "인덱스는 **0번 부터 시작** 합니다. !!!중요중요!!!!!"
      ]
    },
    {
      "cell_type": "code",
      "metadata": {
        "colab": {
          "base_uri": "https://localhost:8080/"
        },
        "id": "zoZ57XAYxlyh",
        "outputId": "9ebc317c-9ace-45b5-913c-e939aebc5a05"
      },
      "source": [
        "mylist[0]"
      ],
      "execution_count": null,
      "outputs": [
        {
          "output_type": "execute_result",
          "data": {
            "text/plain": [
              "1"
            ]
          },
          "metadata": {},
          "execution_count": 23
        }
      ]
    },
    {
      "cell_type": "code",
      "metadata": {
        "colab": {
          "base_uri": "https://localhost:8080/"
        },
        "id": "9wLhlU4vxpIA",
        "outputId": "ddf391bf-6eaf-4a28-d6da-ee61d9eff797"
      },
      "source": [
        "mylist[3]"
      ],
      "execution_count": null,
      "outputs": [
        {
          "output_type": "execute_result",
          "data": {
            "text/plain": [
              "4"
            ]
          },
          "metadata": {},
          "execution_count": 24
        }
      ]
    },
    {
      "cell_type": "code",
      "metadata": {
        "colab": {
          "base_uri": "https://localhost:8080/",
          "height": 172
        },
        "id": "ZAO_j3TDxrhU",
        "outputId": "dd3e8b06-1f7f-44ef-fe30-51e13aa41740"
      },
      "source": [
        "mylist[4]"
      ],
      "execution_count": null,
      "outputs": [
        {
          "output_type": "error",
          "ename": "IndexError",
          "evalue": "ignored",
          "traceback": [
            "\u001b[0;31m---------------------------------------------------------------------------\u001b[0m",
            "\u001b[0;31mIndexError\u001b[0m                                Traceback (most recent call last)",
            "\u001b[0;32m<ipython-input-25-88b11041aa4f>\u001b[0m in \u001b[0;36m<module>\u001b[0;34m()\u001b[0m\n\u001b[0;32m----> 1\u001b[0;31m \u001b[0mmylist\u001b[0m\u001b[0;34m[\u001b[0m\u001b[0;36m4\u001b[0m\u001b[0;34m]\u001b[0m\u001b[0;34m\u001b[0m\u001b[0;34m\u001b[0m\u001b[0m\n\u001b[0m",
            "\u001b[0;31mIndexError\u001b[0m: list index out of range"
          ]
        }
      ]
    },
    {
      "cell_type": "code",
      "metadata": {
        "id": "LtDXDX0BxuVu"
      },
      "source": [
        "mylist[-1]"
      ],
      "execution_count": null,
      "outputs": []
    },
    {
      "cell_type": "code",
      "metadata": {
        "id": "3p1AER3bylIq"
      },
      "source": [
        "mtlist[-5] #순서에서 벗어난다"
      ],
      "execution_count": null,
      "outputs": []
    },
    {
      "cell_type": "markdown",
      "metadata": {
        "id": "A4VNowGwxw0y"
      },
      "source": [
        "####인덱스로 접근하여 값 바꾸기"
      ]
    },
    {
      "cell_type": "code",
      "metadata": {
        "colab": {
          "base_uri": "https://localhost:8080/"
        },
        "id": "FP2pRW-4yPdu",
        "outputId": "31b1864e-f43d-413c-828e-974c7c5e3984"
      },
      "source": [
        "mylist"
      ],
      "execution_count": null,
      "outputs": [
        {
          "output_type": "execute_result",
          "data": {
            "text/plain": [
              "[1, 2, 3, 4]"
            ]
          },
          "metadata": {},
          "execution_count": 82
        }
      ]
    },
    {
      "cell_type": "code",
      "metadata": {
        "colab": {
          "base_uri": "https://localhost:8080/"
        },
        "id": "7rBePvTNyUi5",
        "outputId": "f1a2a24e-e486-450d-ed05-e9525acb316f"
      },
      "source": [
        "mylist[0]"
      ],
      "execution_count": null,
      "outputs": [
        {
          "output_type": "execute_result",
          "data": {
            "text/plain": [
              "1"
            ]
          },
          "metadata": {},
          "execution_count": 83
        }
      ]
    },
    {
      "cell_type": "code",
      "metadata": {
        "id": "PiCk9SuFy0Bi"
      },
      "source": [
        "mylist[0] = 100 #마이리스트에 0번째에 있는거를 100으로 바꿈"
      ],
      "execution_count": null,
      "outputs": []
    },
    {
      "cell_type": "code",
      "metadata": {
        "colab": {
          "base_uri": "https://localhost:8080/"
        },
        "id": "i9Ym3Qdgy4Pv",
        "outputId": "6cb84908-5379-4cbb-dc05-82992514b69e"
      },
      "source": [
        "mylist"
      ],
      "execution_count": null,
      "outputs": [
        {
          "output_type": "execute_result",
          "data": {
            "text/plain": [
              "[100, 2, 3, 4]"
            ]
          },
          "metadata": {},
          "execution_count": 85
        }
      ]
    },
    {
      "cell_type": "markdown",
      "metadata": {
        "id": "-xPEMvKhy5b7"
      },
      "source": [
        "####전체 길이 (사이즈)알아내기"
      ]
    },
    {
      "cell_type": "code",
      "metadata": {
        "colab": {
          "base_uri": "https://localhost:8080/"
        },
        "id": "gVbZCGuTy_ht",
        "outputId": "0c3122f2-93ca-432a-ec2d-a79e8a4b9d81"
      },
      "source": [
        "len(mylist) #length"
      ],
      "execution_count": null,
      "outputs": [
        {
          "output_type": "execute_result",
          "data": {
            "text/plain": [
              "4"
            ]
          },
          "metadata": {},
          "execution_count": 86
        }
      ]
    },
    {
      "cell_type": "markdown",
      "metadata": {
        "id": "bCPrlMhizeAk"
      },
      "source": [
        "##4-2. tuple (순서가 있는 집합, 읽기 전용)"
      ]
    },
    {
      "cell_type": "markdown",
      "metadata": {
        "id": "3IKP7jv83utt"
      },
      "source": [
        "()로 표현합니다 "
      ]
    },
    {
      "cell_type": "code",
      "metadata": {
        "id": "GnVF6job3yBX"
      },
      "source": [
        "mytuple = (1, 2, 3, 4, 5)"
      ],
      "execution_count": null,
      "outputs": []
    },
    {
      "cell_type": "code",
      "metadata": {
        "colab": {
          "base_uri": "https://localhost:8080/",
          "height": 172
        },
        "id": "yV1H1VDa33CH",
        "outputId": "d1d4c679-4195-4894-88e3-d94f788a4920"
      },
      "source": [
        "mytuple.append(1) #읽기전용이기 때문에 수정 안됨!"
      ],
      "execution_count": null,
      "outputs": [
        {
          "output_type": "error",
          "ename": "AttributeError",
          "evalue": "ignored",
          "traceback": [
            "\u001b[0;31m---------------------------------------------------------------------------\u001b[0m",
            "\u001b[0;31mAttributeError\u001b[0m                            Traceback (most recent call last)",
            "\u001b[0;32m<ipython-input-19-082a7ea72a51>\u001b[0m in \u001b[0;36m<module>\u001b[0;34m()\u001b[0m\n\u001b[0;32m----> 1\u001b[0;31m \u001b[0mmytuple\u001b[0m\u001b[0;34m.\u001b[0m\u001b[0mappend\u001b[0m\u001b[0;34m(\u001b[0m\u001b[0;36m1\u001b[0m\u001b[0;34m)\u001b[0m\u001b[0;34m\u001b[0m\u001b[0;34m\u001b[0m\u001b[0m\n\u001b[0m",
            "\u001b[0;31mAttributeError\u001b[0m: 'tuple' object has no attribute 'append'"
          ]
        }
      ]
    },
    {
      "cell_type": "code",
      "metadata": {
        "colab": {
          "base_uri": "https://localhost:8080/",
          "height": 172
        },
        "id": "_KnzwlJZ392f",
        "outputId": "1addd140-c576-4d04-dc04-c248a55dbd63"
      },
      "source": [
        "mytuple.remove(1)"
      ],
      "execution_count": null,
      "outputs": [
        {
          "output_type": "error",
          "ename": "AttributeError",
          "evalue": "ignored",
          "traceback": [
            "\u001b[0;31m---------------------------------------------------------------------------\u001b[0m",
            "\u001b[0;31mAttributeError\u001b[0m                            Traceback (most recent call last)",
            "\u001b[0;32m<ipython-input-20-05a40423345b>\u001b[0m in \u001b[0;36m<module>\u001b[0;34m()\u001b[0m\n\u001b[0;32m----> 1\u001b[0;31m \u001b[0mmytuple\u001b[0m\u001b[0;34m.\u001b[0m\u001b[0mremove\u001b[0m\u001b[0;34m(\u001b[0m\u001b[0;36m1\u001b[0m\u001b[0;34m)\u001b[0m\u001b[0;34m\u001b[0m\u001b[0;34m\u001b[0m\u001b[0m\n\u001b[0m",
            "\u001b[0;31mAttributeError\u001b[0m: 'tuple' object has no attribute 'remove'"
          ]
        }
      ]
    },
    {
      "cell_type": "code",
      "metadata": {
        "colab": {
          "base_uri": "https://localhost:8080/",
          "height": 172
        },
        "id": "Dtc5yiiy4BW0",
        "outputId": "0ede5b25-6860-458c-84b0-9ca8769ab29d"
      },
      "source": [
        "mytuple[0] = 1"
      ],
      "execution_count": null,
      "outputs": [
        {
          "output_type": "error",
          "ename": "TypeError",
          "evalue": "ignored",
          "traceback": [
            "\u001b[0;31m---------------------------------------------------------------------------\u001b[0m",
            "\u001b[0;31mTypeError\u001b[0m                                 Traceback (most recent call last)",
            "\u001b[0;32m<ipython-input-21-4cf492702bfd>\u001b[0m in \u001b[0;36m<module>\u001b[0;34m()\u001b[0m\n\u001b[0;32m----> 1\u001b[0;31m \u001b[0mmytuple\u001b[0m\u001b[0;34m[\u001b[0m\u001b[0;36m0\u001b[0m\u001b[0;34m]\u001b[0m \u001b[0;34m=\u001b[0m \u001b[0;36m1\u001b[0m\u001b[0;34m\u001b[0m\u001b[0;34m\u001b[0m\u001b[0m\n\u001b[0m",
            "\u001b[0;31mTypeError\u001b[0m: 'tuple' object does not support item assignment"
          ]
        }
      ]
    },
    {
      "cell_type": "markdown",
      "metadata": {
        "id": "aSQSkIdd4WVQ"
      },
      "source": [
        "###길이 파악하기"
      ]
    },
    {
      "cell_type": "code",
      "metadata": {
        "colab": {
          "base_uri": "https://localhost:8080/"
        },
        "id": "WgUwObWb4bRx",
        "outputId": "d71ee547-6a32-4e0a-aabc-602bea576ead"
      },
      "source": [
        "len(mytuple)"
      ],
      "execution_count": null,
      "outputs": [
        {
          "output_type": "execute_result",
          "data": {
            "text/plain": [
              "5"
            ]
          },
          "metadata": {},
          "execution_count": 26
        }
      ]
    },
    {
      "cell_type": "code",
      "metadata": {
        "colab": {
          "base_uri": "https://localhost:8080/"
        },
        "id": "R4CRRVo44eWG",
        "outputId": "650f4ba5-3d8e-4748-fd0a-821e4261c30f"
      },
      "source": [
        "mytuple #튜플은 꺾괄호 아니라 부드러운 괄호"
      ],
      "execution_count": null,
      "outputs": [
        {
          "output_type": "execute_result",
          "data": {
            "text/plain": [
              "(1, 2, 3, 4, 5)"
            ]
          },
          "metadata": {},
          "execution_count": 28
        }
      ]
    },
    {
      "cell_type": "markdown",
      "metadata": {
        "id": "9IPw8hu04fFE"
      },
      "source": [
        "###set (순서 X, 중복 X)"
      ]
    },
    {
      "cell_type": "code",
      "metadata": {
        "id": "J3aIdnm24mfa"
      },
      "source": [
        "myset = set()"
      ],
      "execution_count": null,
      "outputs": []
    },
    {
      "cell_type": "code",
      "metadata": {
        "colab": {
          "base_uri": "https://localhost:8080/"
        },
        "id": "xlyidwr-6c7O",
        "outputId": "a42c384f-75a2-47fc-cc1e-51cabbb0c77d"
      },
      "source": [
        "type(myset)"
      ],
      "execution_count": null,
      "outputs": [
        {
          "output_type": "execute_result",
          "data": {
            "text/plain": [
              "set"
            ]
          },
          "metadata": {},
          "execution_count": 31
        }
      ]
    },
    {
      "cell_type": "code",
      "metadata": {
        "id": "Rre8OiCY6gDr"
      },
      "source": [
        "myset.add(1)\n",
        "myset.add(2)\n",
        "myset.add(3)"
      ],
      "execution_count": null,
      "outputs": []
    },
    {
      "cell_type": "code",
      "metadata": {
        "colab": {
          "base_uri": "https://localhost:8080/"
        },
        "id": "uNQblRN36-6l",
        "outputId": "7a8719e7-7216-4842-c61c-e0ddae210509"
      },
      "source": [
        "myset"
      ],
      "execution_count": null,
      "outputs": [
        {
          "output_type": "execute_result",
          "data": {
            "text/plain": [
              "{1, 2, 3}"
            ]
          },
          "metadata": {},
          "execution_count": 35
        }
      ]
    },
    {
      "cell_type": "code",
      "metadata": {
        "id": "GZB03A-i6_6l"
      },
      "source": [
        "myset.add(1)\n",
        "myset.add(2)\n",
        "myset.add(3)\n",
        "myset.add(1)\n",
        "myset.add(2)\n",
        "myset.add(3)"
      ],
      "execution_count": null,
      "outputs": []
    },
    {
      "cell_type": "code",
      "metadata": {
        "colab": {
          "base_uri": "https://localhost:8080/"
        },
        "id": "paYv1ySz7I5P",
        "outputId": "19ced626-3547-4d39-c838-5b771acf174a"
      },
      "source": [
        "myset"
      ],
      "execution_count": null,
      "outputs": [
        {
          "output_type": "execute_result",
          "data": {
            "text/plain": [
              "{1, 2, 3}"
            ]
          },
          "metadata": {},
          "execution_count": 37
        }
      ]
    },
    {
      "cell_type": "code",
      "metadata": {
        "id": "bCy7ZQyl7Jzt"
      },
      "source": [
        "myset.add(4)"
      ],
      "execution_count": null,
      "outputs": []
    },
    {
      "cell_type": "code",
      "metadata": {
        "colab": {
          "base_uri": "https://localhost:8080/"
        },
        "id": "Dng2ruFi7Ohb",
        "outputId": "b64705ea-1d48-451b-84f6-a31f5c079eee"
      },
      "source": [
        "myset"
      ],
      "execution_count": null,
      "outputs": [
        {
          "output_type": "execute_result",
          "data": {
            "text/plain": [
              "{1, 2, 3, 4}"
            ]
          },
          "metadata": {},
          "execution_count": 39
        }
      ]
    },
    {
      "cell_type": "markdown",
      "metadata": {
        "id": "GshfIjt87PgT"
      },
      "source": [
        "##4-3. dict (사전형 집합, key와 value 쌍)"
      ]
    },
    {
      "cell_type": "markdown",
      "metadata": {
        "id": "RbuXDXmj7d-_"
      },
      "source": [
        "{}로 표현함"
      ]
    },
    {
      "cell_type": "code",
      "metadata": {
        "id": "_6IBhgVm7ipl"
      },
      "source": [
        "mydict = dict()"
      ],
      "execution_count": null,
      "outputs": []
    },
    {
      "cell_type": "code",
      "metadata": {
        "colab": {
          "base_uri": "https://localhost:8080/"
        },
        "id": "qiF9EE6V8djz",
        "outputId": "2cae3dbf-ca48-4b35-886e-07fefa55e787"
      },
      "source": [
        "mydict"
      ],
      "execution_count": null,
      "outputs": [
        {
          "output_type": "execute_result",
          "data": {
            "text/plain": [
              "{}"
            ]
          },
          "metadata": {},
          "execution_count": 41
        }
      ]
    },
    {
      "cell_type": "code",
      "metadata": {
        "colab": {
          "base_uri": "https://localhost:8080/"
        },
        "id": "l9lQGDGf7pSo",
        "outputId": "d7fc865a-cdec-405f-9875-b8eaf5a66d12"
      },
      "source": [
        "type(mydict)"
      ],
      "execution_count": null,
      "outputs": [
        {
          "output_type": "execute_result",
          "data": {
            "text/plain": [
              "dict"
            ]
          },
          "metadata": {},
          "execution_count": 42
        }
      ]
    },
    {
      "cell_type": "markdown",
      "metadata": {
        "id": "sVJdRXkM7r4E"
      },
      "source": [
        "###값을 추가하기"
      ]
    },
    {
      "cell_type": "code",
      "metadata": {
        "id": "yRPEDqbe7vtn"
      },
      "source": [
        "mydict = dict()"
      ],
      "execution_count": null,
      "outputs": []
    },
    {
      "cell_type": "code",
      "metadata": {
        "id": "8TOsuaPP7zUO"
      },
      "source": [
        "mydict['apple'] = 123 #apple 이라는 키에는 123을 할당해 줘!"
      ],
      "execution_count": null,
      "outputs": []
    },
    {
      "cell_type": "code",
      "metadata": {
        "colab": {
          "base_uri": "https://localhost:8080/"
        },
        "id": "ADdmeMp273fR",
        "outputId": "f389fe3e-3260-4680-a6f7-dd76211e809d"
      },
      "source": [
        "mydict['apple'] #마이딕트에 있는 키를 입력하면 값이 나옴"
      ],
      "execution_count": null,
      "outputs": [
        {
          "output_type": "execute_result",
          "data": {
            "text/plain": [
              "123"
            ]
          },
          "metadata": {},
          "execution_count": 47
        }
      ]
    },
    {
      "cell_type": "code",
      "metadata": {
        "id": "cNhesr8e76Vs"
      },
      "source": [
        "mydict[0] = 2 #문자형 키 뿐만 아니라 정수형 키도 가능함"
      ],
      "execution_count": null,
      "outputs": []
    },
    {
      "cell_type": "code",
      "metadata": {
        "colab": {
          "base_uri": "https://localhost:8080/"
        },
        "id": "ptkZHNKv79d_",
        "outputId": "d1038ff6-5bc4-47a7-acbf-7502f8604ac6"
      },
      "source": [
        "mydict[0]"
      ],
      "execution_count": null,
      "outputs": [
        {
          "output_type": "execute_result",
          "data": {
            "text/plain": [
              "2"
            ]
          },
          "metadata": {},
          "execution_count": 49
        }
      ]
    },
    {
      "cell_type": "markdown",
      "metadata": {
        "id": "NaWT_1kS7_kH"
      },
      "source": [
        "mydict의 키는 **문자형 / 숫자형**이 혼용 가능함"
      ]
    },
    {
      "cell_type": "code",
      "metadata": {
        "colab": {
          "base_uri": "https://localhost:8080/"
        },
        "id": "kL69EnyC8KWa",
        "outputId": "41da09b2-2725-4f62-e774-c65549c41147"
      },
      "source": [
        "mydict # ':'을 기준으로 왼쪽에는 키 오른쪽에는 값이 들어감"
      ],
      "execution_count": null,
      "outputs": [
        {
          "output_type": "execute_result",
          "data": {
            "text/plain": [
              "{0: 2, 'apple': 123}"
            ]
          },
          "metadata": {},
          "execution_count": 50
        }
      ]
    },
    {
      "cell_type": "markdown",
      "metadata": {
        "id": "MdPDNKB78MSA"
      },
      "source": [
        "float(실수)도 키로써 입력이 가능합니다."
      ]
    },
    {
      "cell_type": "code",
      "metadata": {
        "id": "mpwSKTVO9NZL"
      },
      "source": [
        "mydict[3.14] = 1"
      ],
      "execution_count": null,
      "outputs": []
    },
    {
      "cell_type": "code",
      "metadata": {
        "colab": {
          "base_uri": "https://localhost:8080/"
        },
        "id": "b0Ztkehe9SQV",
        "outputId": "c3566e1e-cf22-4104-dacf-e864bc49eaf4"
      },
      "source": [
        "mydict"
      ],
      "execution_count": null,
      "outputs": [
        {
          "output_type": "execute_result",
          "data": {
            "text/plain": [
              "{0: 2, 3.14: 1, 'apple': 123}"
            ]
          },
          "metadata": {},
          "execution_count": 52
        }
      ]
    },
    {
      "cell_type": "markdown",
      "metadata": {
        "id": "fwJnXDJA9UBT"
      },
      "source": [
        "###값을 바꾸기"
      ]
    },
    {
      "cell_type": "code",
      "metadata": {
        "id": "-MV6wGPn9YGW"
      },
      "source": [
        "mydict['apple'] = 'byebye' #키를 가져와서 값을 입력해 주면 됨"
      ],
      "execution_count": null,
      "outputs": []
    },
    {
      "cell_type": "code",
      "metadata": {
        "colab": {
          "base_uri": "https://localhost:8080/"
        },
        "id": "JM8PMogQ9eAq",
        "outputId": "c27e5e5e-52b2-4621-9c94-3d2ad8d32d21"
      },
      "source": [
        "mydict"
      ],
      "execution_count": null,
      "outputs": [
        {
          "output_type": "execute_result",
          "data": {
            "text/plain": [
              "{0: 2, 3.14: 1, 'apple': 'byebye'}"
            ]
          },
          "metadata": {},
          "execution_count": 54
        }
      ]
    },
    {
      "cell_type": "markdown",
      "metadata": {
        "id": "P4U0Duh99gDT"
      },
      "source": [
        "###길이 파악하기"
      ]
    },
    {
      "cell_type": "code",
      "metadata": {
        "colab": {
          "base_uri": "https://localhost:8080/"
        },
        "id": "nR_74v4Q9joZ",
        "outputId": "8adc2554-d6c4-487e-f98a-789461d8cd34"
      },
      "source": [
        "len(mydict)"
      ],
      "execution_count": null,
      "outputs": [
        {
          "output_type": "execute_result",
          "data": {
            "text/plain": [
              "3"
            ]
          },
          "metadata": {},
          "execution_count": 55
        }
      ]
    },
    {
      "cell_type": "code",
      "metadata": {
        "id": "7LYfOc3P9miJ"
      },
      "source": [
        ""
      ],
      "execution_count": null,
      "outputs": []
    }
  ]
}